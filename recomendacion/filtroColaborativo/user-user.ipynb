{
 "cells": [
  {
   "cell_type": "markdown",
   "metadata": {},
   "source": [
    "The current example handle how to create a collborative filter in code based on math and kaggle 20 million ratings for movies\n",
    "https://www.kaggle.com/grouplens/movielens-20m-dataset?select=rating.csv"
   ]
  },
  {
   "cell_type": "code",
   "execution_count": 16,
   "metadata": {},
   "outputs": [],
   "source": [
    "#lets import some important libraries\n",
    "import pandas as pd\n",
    "import numpy as np\n",
    "import matplotlib.pyplot as plt\n",
    "from sklearn.utils import shuffle\n",
    "from datetime import datetime\n",
    "from collections import Counter"
   ]
  },
  {
   "cell_type": "code",
   "execution_count": 3,
   "metadata": {},
   "outputs": [
    {
     "data": {
      "text/html": [
       "<div>\n",
       "<style scoped>\n",
       "    .dataframe tbody tr th:only-of-type {\n",
       "        vertical-align: middle;\n",
       "    }\n",
       "\n",
       "    .dataframe tbody tr th {\n",
       "        vertical-align: top;\n",
       "    }\n",
       "\n",
       "    .dataframe thead th {\n",
       "        text-align: right;\n",
       "    }\n",
       "</style>\n",
       "<table border=\"1\" class=\"dataframe\">\n",
       "  <thead>\n",
       "    <tr style=\"text-align: right;\">\n",
       "      <th></th>\n",
       "      <th>userId</th>\n",
       "      <th>movieId</th>\n",
       "      <th>rating</th>\n",
       "      <th>timestamp</th>\n",
       "    </tr>\n",
       "  </thead>\n",
       "  <tbody>\n",
       "    <tr>\n",
       "      <th>0</th>\n",
       "      <td>1</td>\n",
       "      <td>2</td>\n",
       "      <td>3.5</td>\n",
       "      <td>2005-04-02 23:53:47</td>\n",
       "    </tr>\n",
       "    <tr>\n",
       "      <th>1</th>\n",
       "      <td>1</td>\n",
       "      <td>29</td>\n",
       "      <td>3.5</td>\n",
       "      <td>2005-04-02 23:31:16</td>\n",
       "    </tr>\n",
       "    <tr>\n",
       "      <th>2</th>\n",
       "      <td>1</td>\n",
       "      <td>32</td>\n",
       "      <td>3.5</td>\n",
       "      <td>2005-04-02 23:33:39</td>\n",
       "    </tr>\n",
       "    <tr>\n",
       "      <th>3</th>\n",
       "      <td>1</td>\n",
       "      <td>47</td>\n",
       "      <td>3.5</td>\n",
       "      <td>2005-04-02 23:32:07</td>\n",
       "    </tr>\n",
       "    <tr>\n",
       "      <th>4</th>\n",
       "      <td>1</td>\n",
       "      <td>50</td>\n",
       "      <td>3.5</td>\n",
       "      <td>2005-04-02 23:29:40</td>\n",
       "    </tr>\n",
       "  </tbody>\n",
       "</table>\n",
       "</div>"
      ],
      "text/plain": [
       "   userId  movieId  rating            timestamp\n",
       "0       1        2     3.5  2005-04-02 23:53:47\n",
       "1       1       29     3.5  2005-04-02 23:31:16\n",
       "2       1       32     3.5  2005-04-02 23:33:39\n",
       "3       1       47     3.5  2005-04-02 23:32:07\n",
       "4       1       50     3.5  2005-04-02 23:29:40"
      ]
     },
     "execution_count": 3,
     "metadata": {},
     "output_type": "execute_result"
    }
   ],
   "source": [
    "#import rating file and take a view\n",
    "df = pd.read_csv('./rating.csv')\n",
    "df.head()"
   ]
  },
  {
   "cell_type": "code",
   "execution_count": 12,
   "metadata": {},
   "outputs": [],
   "source": [
    "#it is a very big file so we need to process this data in some way that will help to run the function faster with a properly\n",
    "# structure, start userId index by 0 not 1\n",
    "df.userId = df.userId - 1\n",
    "# get movie count by index and set to a dictionary\n",
    "movie_counts = df['movieId'].value_counts()\n",
    "movie2idx = dict(movie_counts)\n",
    "#print(movie2idx[2])\n",
    "#this will generate a dictionary of index example: { 2:22243 } --> movie 2 appear 22243 times"
   ]
  },
  {
   "cell_type": "code",
   "execution_count": 13,
   "metadata": {},
   "outputs": [
    {
     "data": {
      "text/html": [
       "<div>\n",
       "<style scoped>\n",
       "    .dataframe tbody tr th:only-of-type {\n",
       "        vertical-align: middle;\n",
       "    }\n",
       "\n",
       "    .dataframe tbody tr th {\n",
       "        vertical-align: top;\n",
       "    }\n",
       "\n",
       "    .dataframe thead th {\n",
       "        text-align: right;\n",
       "    }\n",
       "</style>\n",
       "<table border=\"1\" class=\"dataframe\">\n",
       "  <thead>\n",
       "    <tr style=\"text-align: right;\">\n",
       "      <th></th>\n",
       "      <th>userId</th>\n",
       "      <th>movieId</th>\n",
       "      <th>rating</th>\n",
       "      <th>movie_idx</th>\n",
       "    </tr>\n",
       "  </thead>\n",
       "  <tbody>\n",
       "    <tr>\n",
       "      <th>0</th>\n",
       "      <td>0</td>\n",
       "      <td>2</td>\n",
       "      <td>3.5</td>\n",
       "      <td>22243</td>\n",
       "    </tr>\n",
       "    <tr>\n",
       "      <th>1</th>\n",
       "      <td>0</td>\n",
       "      <td>29</td>\n",
       "      <td>3.5</td>\n",
       "      <td>8520</td>\n",
       "    </tr>\n",
       "    <tr>\n",
       "      <th>2</th>\n",
       "      <td>0</td>\n",
       "      <td>32</td>\n",
       "      <td>3.5</td>\n",
       "      <td>44980</td>\n",
       "    </tr>\n",
       "    <tr>\n",
       "      <th>3</th>\n",
       "      <td>0</td>\n",
       "      <td>47</td>\n",
       "      <td>3.5</td>\n",
       "      <td>43249</td>\n",
       "    </tr>\n",
       "    <tr>\n",
       "      <th>4</th>\n",
       "      <td>0</td>\n",
       "      <td>50</td>\n",
       "      <td>3.5</td>\n",
       "      <td>47006</td>\n",
       "    </tr>\n",
       "  </tbody>\n",
       "</table>\n",
       "</div>"
      ],
      "text/plain": [
       "   userId  movieId  rating  movie_idx\n",
       "0       0        2     3.5      22243\n",
       "1       0       29     3.5       8520\n",
       "2       0       32     3.5      44980\n",
       "3       0       47     3.5      43249\n",
       "4       0       50     3.5      47006"
      ]
     },
     "execution_count": 13,
     "metadata": {},
     "output_type": "execute_result"
    }
   ],
   "source": [
    "#row by row in dataframe is added the count of each movie, this could be better solved in a faster way, but by now i will let like this.\n",
    "df['movie_idx'] = df.apply(lambda row: movie2idx[row.movieId], axis=1)\n",
    "df = df.drop(columns=['timestamp'])\n",
    "df.head()"
   ]
  },
  {
   "cell_type": "code",
   "execution_count": 15,
   "metadata": {},
   "outputs": [
    {
     "name": "stdout",
     "output_type": "stream",
     "text": [
      "original dataframe size: 20000263\n"
     ]
    }
   ],
   "source": [
    "print(\"original dataframe size:\", len(df))"
   ]
  },
  {
   "cell_type": "code",
   "execution_count": 20,
   "metadata": {},
   "outputs": [
    {
     "data": {
      "text/html": [
       "<div>\n",
       "<style scoped>\n",
       "    .dataframe tbody tr th:only-of-type {\n",
       "        vertical-align: middle;\n",
       "    }\n",
       "\n",
       "    .dataframe tbody tr th {\n",
       "        vertical-align: top;\n",
       "    }\n",
       "\n",
       "    .dataframe thead th {\n",
       "        text-align: right;\n",
       "    }\n",
       "</style>\n",
       "<table border=\"1\" class=\"dataframe\">\n",
       "  <thead>\n",
       "    <tr style=\"text-align: right;\">\n",
       "      <th></th>\n",
       "      <th>userId</th>\n",
       "      <th>movieId</th>\n",
       "      <th>rating</th>\n",
       "      <th>movie_idx</th>\n",
       "    </tr>\n",
       "  </thead>\n",
       "  <tbody>\n",
       "    <tr>\n",
       "      <th>960</th>\n",
       "      <td>10</td>\n",
       "      <td>1</td>\n",
       "      <td>4.5</td>\n",
       "      <td>49695</td>\n",
       "    </tr>\n",
       "    <tr>\n",
       "      <th>961</th>\n",
       "      <td>10</td>\n",
       "      <td>10</td>\n",
       "      <td>2.5</td>\n",
       "      <td>29005</td>\n",
       "    </tr>\n",
       "    <tr>\n",
       "      <th>962</th>\n",
       "      <td>10</td>\n",
       "      <td>19</td>\n",
       "      <td>3.5</td>\n",
       "      <td>20938</td>\n",
       "    </tr>\n",
       "    <tr>\n",
       "      <th>963</th>\n",
       "      <td>10</td>\n",
       "      <td>32</td>\n",
       "      <td>5.0</td>\n",
       "      <td>44980</td>\n",
       "    </tr>\n",
       "    <tr>\n",
       "      <th>964</th>\n",
       "      <td>10</td>\n",
       "      <td>39</td>\n",
       "      <td>4.5</td>\n",
       "      <td>26254</td>\n",
       "    </tr>\n",
       "  </tbody>\n",
       "</table>\n",
       "</div>"
      ],
      "text/plain": [
       "     userId  movieId  rating  movie_idx\n",
       "960      10        1     4.5      49695\n",
       "961      10       10     2.5      29005\n",
       "962      10       19     3.5      20938\n",
       "963      10       32     5.0      44980\n",
       "964      10       39     4.5      26254"
      ]
     },
     "execution_count": 20,
     "metadata": {},
     "output_type": "execute_result"
    }
   ],
   "source": [
    "#lets reduce the dataframe size\n",
    "#first generate some count dictionaries for each key on users and movies\n",
    "user_ids_count = Counter(df.userId)\n",
    "movie_ids_count = Counter(df.movie_idx)\n",
    "# treshold of n users and m moviews that we will keep\n",
    "n = 10000\n",
    "m = 2000\n",
    "user_ids = [u for u in user_ids_count.most_common(n)]\n",
    "movie_ids = [m for m in movie_ids_count.most_common(m)]\n",
    "# print(len(user_ids)) --> this will result in 10000 based on most common\n",
    "df_small = df[df.userId.isin(user_ids) & df.movie_idx.isin(movie_ids)].copy()\n",
    "df_small.head()"
   ]
  },
  {
   "cell_type": "code",
   "execution_count": 24,
   "metadata": {},
   "outputs": [
    {
     "name": "stdout",
     "output_type": "stream",
     "text": [
      "reduced dataframe size: 6125993\n",
      "reduction over 69.37043777874321 %\n"
     ]
    }
   ],
   "source": [
    "print(\"reduced dataframe size:\", len(df_small))\n",
    "print(\"reduction over\", 100 - (len(df_small) * 100 / len(df)), \"%\" )"
   ]
  },
  {
   "cell_type": "code",
   "execution_count": 25,
   "metadata": {},
   "outputs": [
    {
     "name": "stdout",
     "output_type": "stream",
     "text": [
      "max user id: 9999\n",
      "max movie id: 1999\n"
     ]
    }
   ],
   "source": [
    "#some users ids were deleted so we need to rebuild the ids sequence \n",
    "\n",
    "new_user_id_map = {}\n",
    "i = 0\n",
    "#adding new ids from 0 to users\n",
    "for old in user_ids:\n",
    "  new_user_id_map[old] = i\n",
    "  i += 1\n",
    "\n",
    "new_movie_id_map = {}\n",
    "j = 0\n",
    "#adding new ids from 0 to movies\n",
    "for old in movie_ids:\n",
    "  new_movie_id_map[old] = j\n",
    "  j += 1\n",
    "\n",
    "df_small.loc[:, 'userId'] = df_small.apply(lambda row: new_user_id_map[row.userId], axis=1)\n",
    "df_small.loc[:, 'movie_idx'] = df_small.apply(lambda row: new_movie_id_map[row.movie_idx], axis=1)\n",
    "\n",
    "print(\"max user id:\", df_small.userId.max())\n",
    "print(\"max movie id:\", df_small.movie_idx.max())"
   ]
  },
  {
   "cell_type": "code",
   "execution_count": 26,
   "metadata": {},
   "outputs": [],
   "source": [
    "#if desired we can send this reduced dataset to a csv file\n",
    "df_small.to_csv('./small_rating.csv', index=False)"
   ]
  },
  {
   "cell_type": "code",
   "execution_count": 125,
   "metadata": {},
   "outputs": [],
   "source": [
    "# we need to define some hyperparameters in order to build the prediction structure\n",
    "\n",
    "K = 25 # number of neighbors we'd like to consider\n",
    "limit = 1300 # number of common movies users must have in common in order to consider\n",
    "N = df_small.userId.max() + 1"
   ]
  },
  {
   "cell_type": "markdown",
   "metadata": {},
   "source": [
    "Here's the **collaborative filter** math formula <br/> <img src=\"./images/collFormula.png\" width=300 height=200 />"
   ]
  },
  {
   "cell_type": "markdown",
   "metadata": {},
   "source": [
    "To proceed with the prediction i'm going to use the defined formula of collaborative filtering, omega is the subset of data that will be finded on the neightbors , W is the pearson correlation that will set the weights between users, ri'j is the score of one movie compare to r_i' that is the average score for that user in this way will be summed all the deviations for each user."
   ]
  },
  {
   "cell_type": "markdown",
   "metadata": {},
   "source": [
    " **pearsonCorrelation** math formula <br/> <img src=\"./images/pearson.png\" width=300 height=200 />"
   ]
  },
  {
   "cell_type": "code",
   "execution_count": 91,
   "metadata": {},
   "outputs": [
    {
     "name": "stdout",
     "output_type": "stream",
     "text": [
      "[0, 1, 2, 3, 4, 5, 6, 8, 9, 10, 11, 12, 13, 14, 15, 16, 17, 18, 23, 24, 25, 26, 30, 31, 32]\n"
     ]
    }
   ],
   "source": [
    "#first we will get the neightbors for each user\n",
    "\"\"\"for i in range(N):\n",
    "    # for get the neightbors it is necessary to know which movies have an user\n",
    "    IUser = df_small.loc[df_small['userId'] == i] \n",
    "    # here i get the unique movies for user i\n",
    "    IUserMovies = IUser['movieId'].unique()\n",
    "    neighbors[i] = []\n",
    "    for j in range(N):\n",
    "        # No one can be neighbor for itself\n",
    "        if i != j:\n",
    "            JUser = df_small.loc[df_small['userId'] == j] \n",
    "            JserMovies = JUser['movieId'].unique()\n",
    "            common_movies = (set(IUserMovies) & set(JserMovies))\n",
    "            # if users have more than limit (5) movies in common can be a neighbor\n",
    "            if len(common_movies) > limit:\n",
    "                if len(neighbors[i]) >= K:\n",
    "                    break\n",
    "                # here i will calculate the pearson correlation between both users and its deviations\n",
    "                neighbors[i].append(j) \n",
    "                \n",
    "\"\"\"\n",
    "#tre previous code generate the neighbors for all dataset of 100000 users this requires lots of time so i had to rethink how to build the predictor\n",
    "def find_neighbors(i):\n",
    "    IUser = df_small.loc[df_small['userId'] == i] \n",
    "    # here i get the unique movies for user i\n",
    "    IUserMovies = IUser['movieId'].unique()\n",
    "    neighbors = []\n",
    "    for j in range(N):\n",
    "        # No one can be neighbor for itself\n",
    "        if i != j:\n",
    "            JUser = df_small.loc[df_small['userId'] == j] \n",
    "            JserMovies = JUser['movieId'].unique()\n",
    "            common_movies = (set(IUserMovies) & set(JserMovies))\n",
    "            #print(len(common_movies),j)\n",
    "            # if users have more than limit defined movies in common can be a neighbor\n",
    "            if len(common_movies) > limit:\n",
    "                if len(neighbors) >= K:\n",
    "                    break\n",
    "                # here i will calculate the pearson correlation between both users and its deviations\n",
    "                neighbors.append(j)\n",
    "    return neighbors\n",
    "\n",
    "print(find_neighbors(50))             \n",
    "            "
   ]
  },
  {
   "cell_type": "code",
   "execution_count": 119,
   "metadata": {},
   "outputs": [
    {
     "data": {
      "text/plain": [
       "0.6730643165633223"
      ]
     },
     "execution_count": 119,
     "metadata": {},
     "output_type": "execute_result"
    }
   ],
   "source": [
    "\n",
    "def find_user_average(i):\n",
    "    IUser = df_small.loc[df_small['userId'] == i] \n",
    "    # here i get the unique movies for user i\n",
    "    return np.mean(IUser[\"rating\"].values)\n",
    "\n",
    "def find_users_correlation(i,j):\n",
    "    IUser = df_small.loc[df_small['userId'] == i] \n",
    "    JUser = df_small.loc[df_small['userId'] == j] \n",
    "    IUserRatingsDev = IUser[\"rating\"].values - np.mean(IUser[\"rating\"].values)\n",
    "    JUserRatingsDev = IUser[\"rating\"].values - np.mean(JUser[\"rating\"].values)\n",
    "    numerator = IUserRatingsDev.dot(JUserRatingsDev)\n",
    "    #dot product it is used because it requires the square\n",
    "    i_relation = np.sqrt(IUserRatingsDev.dot(JUserRatingsDev))\n",
    "    j_relation = np.sqrt(JUserRatingsDev.dot(JUserRatingsDev))\n",
    "    return numerator/(i_relation*j_relation)\n",
    "        \n",
    "find_users_correlation(50,2)"
   ]
  },
  {
   "cell_type": "code",
   "execution_count": 131,
   "metadata": {},
   "outputs": [
    {
     "name": "stdout",
     "output_type": "stream",
     "text": [
      "3.372650207341007\n",
      "3.5\n"
     ]
    }
   ],
   "source": [
    "def predict(i,j):\n",
    "    Iuser_average = find_user_average(i)\n",
    "    neighbors = find_neighbors(i)\n",
    "    neighbors_correlations = [(lambda x: find_users_correlation(i,x))(x)  for x in neighbors]\n",
    "    neighbors_average = [(lambda x: find_user_average(x))(x)  for x in neighbors]\n",
    "    neighbors_j_rating = [(lambda x:  df_small.loc[(df_small['userId'] == x) & (df_small['movieId'] == j)]['rating'].values[0] if len(df_small.loc[(df_small['userId'] == x) & (df_small['movieId'] == j)]['rating'].values) == 1 else 0 )(x)  for x in neighbors]\n",
    "    numerator = np.array(neighbors_correlations).dot(np.array(neighbors_j_rating)-np.array(neighbors_average))\n",
    "    prediction = Iuser_average + (numerator / np.sum(neighbors_correlations)) \n",
    "    return prediction\n",
    "\n",
    "print(predict(50,32))\n",
    "print(df_small.loc[(df_small['userId'] == 50) & (df_small['movieId'] == 32)]['rating'].values[0])"
   ]
  }
 ],
 "metadata": {
  "interpreter": {
   "hash": "aee8b7b246df8f9039afb4144a1f6fd8d2ca17a180786b69acc140d282b71a49"
  },
  "kernelspec": {
   "display_name": "Python 3.7.4 64-bit",
   "language": "python",
   "name": "python3"
  },
  "language_info": {
   "codemirror_mode": {
    "name": "ipython",
    "version": 3
   },
   "file_extension": ".py",
   "mimetype": "text/x-python",
   "name": "python",
   "nbconvert_exporter": "python",
   "pygments_lexer": "ipython3",
   "version": "3.7.4"
  },
  "orig_nbformat": 4
 },
 "nbformat": 4,
 "nbformat_minor": 2
}
